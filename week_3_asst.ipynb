{
  "nbformat": 4,
  "nbformat_minor": 5,
  "metadata": {
    "kernelspec": {
      "display_name": "Python 3",
      "language": "python",
      "name": "python3"
    },
    "language_info": {
      "codemirror_mode": {
        "name": "ipython",
        "version": 3
      },
      "file_extension": ".py",
      "mimetype": "text/x-python",
      "name": "python",
      "nbconvert_exporter": "python",
      "pygments_lexer": "ipython3",
      "version": "3.8.8"
    },
    "colab": {
      "provenance": [],
      "collapsed_sections": []
    }
  },
  "cells": [
    {
      "cell_type": "code",
      "metadata": {
        "id": "c05a117e"
      },
      "source": [
        "import numpy as np #for computational purposes\n",
        "import matplotlib.pyplot as plt\n",
        "import seaborn as sns #statistical data visualization\n",
        "sns.set(style='whitegrid')\n",
        "import pandas as pd #for CSV file I/O, data processing(e.g. pd.read_csv)\n",
        "%matplotlib inline\n",
        "from sklearn.metrics import accuracy_score"
      ],
      "id": "c05a117e",
      "execution_count": null,
      "outputs": []
    },
    {
      "cell_type": "markdown",
      "metadata": {
        "id": "40003f3e"
      },
      "source": [
        "you are given iris dataset\n",
        "#https://gist.githubusercontent.com/curran/a08a1080b88344b0c8a7/raw/639388c2cbc2120a14dcf466e85730eb8be498bb/iris.csv\n",
        "#link to download the CSV file\n",
        "\n",
        "iris dataset includes three iris species with 50 samples each as well as some properties about each flower. One flower species is linearly separable from the other two, but the other two are not linearly separable from each other."
      ],
      "id": "40003f3e"
    },
    {
      "cell_type": "code",
      "metadata": {
        "id": "0df1fc34",
        "colab": {
          "base_uri": "https://localhost:8080/",
          "height": 194
        },
        "outputId": "aae6c22b-0f1c-4ea3-d291-f0915868ea6f"
      },
      "source": [
        "# load data (download from the link or from the google drive)\n",
        "# 1 LINE-------------\n",
        "Iris =pd.read_csv('https://gist.githubusercontent.com/curran/a08a1080b88344b0c8a7/raw/639388c2cbc2120a14dcf466e85730eb8be498bb/iris.csv')\n",
        "Iris.head()"
      ],
      "id": "0df1fc34",
      "execution_count": null,
      "outputs": [
        {
          "output_type": "execute_result",
          "data": {
            "text/html": [
              "<div>\n",
              "<style scoped>\n",
              "    .dataframe tbody tr th:only-of-type {\n",
              "        vertical-align: middle;\n",
              "    }\n",
              "\n",
              "    .dataframe tbody tr th {\n",
              "        vertical-align: top;\n",
              "    }\n",
              "\n",
              "    .dataframe thead th {\n",
              "        text-align: right;\n",
              "    }\n",
              "</style>\n",
              "<table border=\"1\" class=\"dataframe\">\n",
              "  <thead>\n",
              "    <tr style=\"text-align: right;\">\n",
              "      <th></th>\n",
              "      <th>sepal_length</th>\n",
              "      <th>sepal_width</th>\n",
              "      <th>petal_length</th>\n",
              "      <th>petal_width</th>\n",
              "      <th>species</th>\n",
              "    </tr>\n",
              "  </thead>\n",
              "  <tbody>\n",
              "    <tr>\n",
              "      <th>0</th>\n",
              "      <td>5.1</td>\n",
              "      <td>3.5</td>\n",
              "      <td>1.4</td>\n",
              "      <td>0.2</td>\n",
              "      <td>setosa</td>\n",
              "    </tr>\n",
              "    <tr>\n",
              "      <th>1</th>\n",
              "      <td>4.9</td>\n",
              "      <td>3.0</td>\n",
              "      <td>1.4</td>\n",
              "      <td>0.2</td>\n",
              "      <td>setosa</td>\n",
              "    </tr>\n",
              "    <tr>\n",
              "      <th>2</th>\n",
              "      <td>4.7</td>\n",
              "      <td>3.2</td>\n",
              "      <td>1.3</td>\n",
              "      <td>0.2</td>\n",
              "      <td>setosa</td>\n",
              "    </tr>\n",
              "    <tr>\n",
              "      <th>3</th>\n",
              "      <td>4.6</td>\n",
              "      <td>3.1</td>\n",
              "      <td>1.5</td>\n",
              "      <td>0.2</td>\n",
              "      <td>setosa</td>\n",
              "    </tr>\n",
              "    <tr>\n",
              "      <th>4</th>\n",
              "      <td>5.0</td>\n",
              "      <td>3.6</td>\n",
              "      <td>1.4</td>\n",
              "      <td>0.2</td>\n",
              "      <td>setosa</td>\n",
              "    </tr>\n",
              "  </tbody>\n",
              "</table>\n",
              "</div>"
            ],
            "text/plain": [
              "   sepal_length  sepal_width  petal_length  petal_width species\n",
              "0           5.1          3.5           1.4          0.2  setosa\n",
              "1           4.9          3.0           1.4          0.2  setosa\n",
              "2           4.7          3.2           1.3          0.2  setosa\n",
              "3           4.6          3.1           1.5          0.2  setosa\n",
              "4           5.0          3.6           1.4          0.2  setosa"
            ]
          },
          "metadata": {
            "tags": []
          },
          "execution_count": 32
        }
      ]
    },
    {
      "cell_type": "markdown",
      "metadata": {
        "id": "2076b4f6"
      },
      "source": [
        "for perform binary classification using Logistic Regression we will only include first 100 samples which consists of irises’ (Setosa and Versicolour)\n",
        "Then, these must be replaced by 0/1 i.e\n",
        "replace 'Iris-setosa' as 0\n",
        "replace 'Iris-versicolor' as 1"
      ],
      "id": "2076b4f6"
    },
    {
      "cell_type": "code",
      "metadata": {
        "id": "6c08d98e",
        "colab": {
          "base_uri": "https://localhost:8080/"
        },
        "outputId": "08b41631-ba6d-40f7-ec25-d19ab655f81e"
      },
      "source": [
        "# 1 LINE-------------\n",
        "Iris= Iris.loc[(Iris['species'] == 'setosa') | (Iris['species'] == 'versicolor')]\n",
        "Iris.shape\n",
        "## here species column is a nominal categorical variable so handled by replacing with 0 and 1\n"
      ],
      "id": "6c08d98e",
      "execution_count": null,
      "outputs": [
        {
          "output_type": "execute_result",
          "data": {
            "text/plain": [
              "(100, 5)"
            ]
          },
          "metadata": {
            "tags": []
          },
          "execution_count": 33
        }
      ]
    },
    {
      "cell_type": "code",
      "metadata": {
        "id": "9b978862",
        "colab": {
          "base_uri": "https://localhost:8080/",
          "height": 194
        },
        "outputId": "96a561aa-9bde-4700-8b0f-95c60174a448"
      },
      "source": [
        "#REPLACE W 0/1\n",
        "# 1 LINE-------------\n",
        "Iris['species'] = Iris['species'].replace(['setosa','versicolor'], [0,1])\n",
        "Iris.head()"
      ],
      "id": "9b978862",
      "execution_count": null,
      "outputs": [
        {
          "output_type": "execute_result",
          "data": {
            "text/html": [
              "<div>\n",
              "<style scoped>\n",
              "    .dataframe tbody tr th:only-of-type {\n",
              "        vertical-align: middle;\n",
              "    }\n",
              "\n",
              "    .dataframe tbody tr th {\n",
              "        vertical-align: top;\n",
              "    }\n",
              "\n",
              "    .dataframe thead th {\n",
              "        text-align: right;\n",
              "    }\n",
              "</style>\n",
              "<table border=\"1\" class=\"dataframe\">\n",
              "  <thead>\n",
              "    <tr style=\"text-align: right;\">\n",
              "      <th></th>\n",
              "      <th>sepal_length</th>\n",
              "      <th>sepal_width</th>\n",
              "      <th>petal_length</th>\n",
              "      <th>petal_width</th>\n",
              "      <th>species</th>\n",
              "    </tr>\n",
              "  </thead>\n",
              "  <tbody>\n",
              "    <tr>\n",
              "      <th>0</th>\n",
              "      <td>5.1</td>\n",
              "      <td>3.5</td>\n",
              "      <td>1.4</td>\n",
              "      <td>0.2</td>\n",
              "      <td>0</td>\n",
              "    </tr>\n",
              "    <tr>\n",
              "      <th>1</th>\n",
              "      <td>4.9</td>\n",
              "      <td>3.0</td>\n",
              "      <td>1.4</td>\n",
              "      <td>0.2</td>\n",
              "      <td>0</td>\n",
              "    </tr>\n",
              "    <tr>\n",
              "      <th>2</th>\n",
              "      <td>4.7</td>\n",
              "      <td>3.2</td>\n",
              "      <td>1.3</td>\n",
              "      <td>0.2</td>\n",
              "      <td>0</td>\n",
              "    </tr>\n",
              "    <tr>\n",
              "      <th>3</th>\n",
              "      <td>4.6</td>\n",
              "      <td>3.1</td>\n",
              "      <td>1.5</td>\n",
              "      <td>0.2</td>\n",
              "      <td>0</td>\n",
              "    </tr>\n",
              "    <tr>\n",
              "      <th>4</th>\n",
              "      <td>5.0</td>\n",
              "      <td>3.6</td>\n",
              "      <td>1.4</td>\n",
              "      <td>0.2</td>\n",
              "      <td>0</td>\n",
              "    </tr>\n",
              "  </tbody>\n",
              "</table>\n",
              "</div>"
            ],
            "text/plain": [
              "   sepal_length  sepal_width  petal_length  petal_width  species\n",
              "0           5.1          3.5           1.4          0.2        0\n",
              "1           4.9          3.0           1.4          0.2        0\n",
              "2           4.7          3.2           1.3          0.2        0\n",
              "3           4.6          3.1           1.5          0.2        0\n",
              "4           5.0          3.6           1.4          0.2        0"
            ]
          },
          "metadata": {
            "tags": []
          },
          "execution_count": 34
        }
      ]
    },
    {
      "cell_type": "markdown",
      "metadata": {
        "id": "a090e7c1"
      },
      "source": [
        "to understand the decision boundary between the two classes, create a scatter plot of the two scores and use color coding to visualize"
      ],
      "id": "a090e7c1"
    },
    {
      "cell_type": "code",
      "metadata": {
        "id": "61e98c8d",
        "colab": {
          "base_uri": "https://localhost:8080/",
          "height": 305
        },
        "outputId": "3679e9f5-7bea-44a9-f1f5-d6af15625710"
      },
      "source": [
        "#visualization of given dataset\n",
        "# ~4 LINES-----------------\n",
        "iris_0= Iris.loc[(Iris['species'] == 0)]\n",
        "iris_1= Iris.loc[(Iris['species'] == 1)]\n",
        "ax = iris_0.plot.scatter(x=\"sepal_length\", y=\"sepal_width\", color=\"DarkBlue\", label=\"iris-setosa\")\n",
        "iris_1.plot.scatter(x=\"sepal_length\", y=\"sepal_width\", color=\"DarkGreen\", label=\"iris-versicolor\", ax=ax)\n",
        "plt.legend(loc='best')"
      ],
      "id": "61e98c8d",
      "execution_count": null,
      "outputs": [
        {
          "output_type": "execute_result",
          "data": {
            "text/plain": [
              "<matplotlib.legend.Legend at 0x7eff2dd5bdd0>"
            ]
          },
          "metadata": {
            "tags": []
          },
          "execution_count": 35
        },
        {
          "output_type": "display_data",
          "data": {
            "image/png": "[encoded data removed]",
            "text/plain": [
              "<Figure size 432x288 with 1 Axes>"
            ]
          },
          "metadata": {
            "tags": [],
            "needs_background": "light"
          }
        }
      ]
    },
    {
      "cell_type": "code",
      "metadata": {
        "id": "6ffb4ab5",
        "colab": {
          "base_uri": "https://localhost:8080/"
        },
        "outputId": "18e97165-e786-4158-a78c-b5efdf1a2708"
      },
      "source": [
        "X = Iris.drop(labels=['species'], axis=1).values #features\n",
        "Y = np.array(Iris.species.values) #output\n",
        "\n",
        "print(X.shape)\n",
        "print(Y.shape)"
      ],
      "id": "6ffb4ab5",
      "execution_count": null,
      "outputs": [
        {
          "output_type": "stream",
          "text": [
            "(100, 4)\n",
            "(100,)\n"
          ],
          "name": "stdout"
        }
      ]
    },
    {
      "cell_type": "code",
      "metadata": {
        "id": "638de35e"
      },
      "source": [
        "'''Step 3: Split data\n",
        "trainset: 80%\n",
        "testset: 20%'''\n",
        "# after setting seed for numpy, randomnly select 80% of the indices under variable train_index and rest under test_index\n",
        "seed = 5\n",
        "#1 LINE(SET SEED)-------------\n",
        "np.random.seed(5)\n",
        "\n",
        "\n",
        "#1 LINE(RANDOM SELECTION)-----------------------------------------------\n",
        "train_index = [int(np.random.uniform(1,100)) for i in range(int(len(X)*8/10))]\n",
        "\n",
        "test_index = np.array(list(set(range(len(X))) - set(train_index)))"
      ],
      "id": "638de35e",
      "execution_count": null,
      "outputs": []
    },
    {
      "cell_type": "code",
      "metadata": {
        "id": "a185f121",
        "colab": {
          "base_uri": "https://localhost:8080/"
        },
        "outputId": "f9447f45-4732-4eaf-b252-5eef6ea22a43"
      },
      "source": [
        "train_X = X[train_index]\n",
        "train_y = Y[train_index]\n",
        "test_X = X[test_index]\n",
        "test_y = Y[test_index]\n",
        "\n",
        "\n",
        "train_X.shape"
      ],
      "id": "a185f121",
      "execution_count": null,
      "outputs": [
        {
          "output_type": "execute_result",
          "data": {
            "text/plain": [
              "(80, 4)"
            ]
          },
          "metadata": {
            "tags": []
          },
          "execution_count": 38
        }
      ]
    },
    {
      "cell_type": "markdown",
      "metadata": {
        "id": "9a1fc692"
      },
      "source": [
        "Now implement logistic regression so we can train a model to predict the outcome. Follow below steps:\n",
        "- Define the model structure (such as number of input features)\n",
        "- Initialize the model's parameters\n",
        "- Loop:\n",
        "    Calculate cost\n",
        "    Calculate current gradient (backward propagation)\n",
        "    Update parameters (gradient descent)\n",
        "    \n",
        "First complete the sigmoid function required to calculate cost and gradient."
      ],
      "id": "9a1fc692"
    },
    {
      "cell_type": "code",
      "metadata": {
        "id": "a0c0d4dc"
      },
      "source": [
        "def sigmoid(x):\n",
        "    \"\"\"\n",
        "    Compute the sigmoid of z\n",
        "\n",
        "    Arguments:\n",
        "    z -- A scalar or numpy array of any size.\n",
        "\n",
        "    Return:\n",
        "    s -- sigmoid(z)\n",
        "    \"\"\"\n",
        "\n",
        "    # CODE FOR SIGMOID AND RETURN(2 LINES)-------------------------------------\n",
        "    s= 1/(1+np.exp(-x))\n",
        "    return s"
      ],
      "id": "a0c0d4dc",
      "execution_count": null,
      "outputs": []
    },
    {
      "cell_type": "code",
      "metadata": {
        "id": "4d637938"
      },
      "source": [
        "def initialize_with_zeros(dim):\n",
        "    \"\"\"\n",
        "    This function creates a vector of zeros of shape (1, dim) for w and initializes b to 0.\n",
        "    Since our example is a very simple one, we will take up initialisation to zero.\n",
        "    \n",
        "    Argument:\n",
        "    dim -- size of the w vector we want (or number of features in iris dataset(here))\n",
        "    \n",
        "    Returns:\n",
        "    w -- initialized vector of shape (1, dim)\n",
        "    b -- initialized scalar (corresponds to the bias)\n",
        "    \"\"\"\n",
        "    \n",
        "    # ~2-3 LINES(INITIALIZE AND RETURN)---------------------\n",
        "    b=0\n",
        "    w=np.zeros((1,4))\n",
        "    return w,b\n",
        "   "
      ],
      "id": "4d637938",
      "execution_count": null,
      "outputs": []
    },
    {
      "cell_type": "markdown",
      "metadata": {
        "id": "4d1a3a78"
      },
      "source": [
        "implement cost function calc and gradient calc in the same function below"
      ],
      "id": "4d1a3a78"
    },
    {
      "cell_type": "code",
      "metadata": {
        "id": "95ba2976"
      },
      "source": [
        "def propagation(w, b, X, Y):\n",
        "    \"\"\"\n",
        "    Implement the cost function and its gradient for the propagation explained above\n",
        "\n",
        "    Arguments:\n",
        "    w -- weights, a numpy array of size (1,f); *there are 4 features here so f should be 4*\n",
        "    b -- bias, a scalar\n",
        "    X -- data of size (number of examples, f)\n",
        "    Y -- true \"label\" vector (containing 0 if setosa, 1 if versicolor) of size (number of examples, 1)\n",
        "\n",
        "    Return:\n",
        "    cost -- negative log-likelihood cost for logistic regression\n",
        "    dw -- gradient of the loss with respect to w, thus same shape as w\n",
        "    db -- gradient of the loss with respect to b, thus same shape as b\n",
        "    \n",
        "    Tips:\n",
        "    - Write your code step by step for the propagation. USE np.log(), np.dot()\n",
        "    \"\"\"\n",
        "    \n",
        "    m = X.shape[0]\n",
        "    \n",
        "    # FORWARD PROPAGATION (FROM X TO COST)\n",
        "    # Log-likelihood, but with a negative sign, because with gradient descent, we look to minimising the loss function, which in our case is the log-likelihood\n",
        "    # ~3 LINES--------------------------------------------------------\n",
        "    final_result = sigmoid(np.dot(w,X.T)+b)\n",
        "    Y_T = Y.T\n",
        "    cost = (-1/m)*(np.sum((Y_T*np.log(final_result)) + ((1-Y_T)*(np.log(1-final_result)))))\n",
        "    \n",
        "    # BACKWARD PROPAGATION (TO FIND GRAD)\n",
        "    # 2 LINES(dw,db calc)----------------------------------------------\n",
        "    dw = (1/m)*(np.dot(X.T, (final_result-Y.T).T))\n",
        "    db = (1/m)*(np.sum(final_result-Y.T))\n",
        "    \n",
        "    grads = {\"dw\": dw,\n",
        "             \"db\": db}\n",
        "    return grads, cost"
      ],
      "id": "95ba2976",
      "execution_count": null,
      "outputs": []
    },
    {
      "cell_type": "markdown",
      "metadata": {
        "id": "4b80f562"
      },
      "source": [
        "now complete the optimize function for obtaining optmial parameters of w and b, using gradient descent"
      ],
      "id": "4b80f562"
    },
    {
      "cell_type": "code",
      "metadata": {
        "id": "06cca5cc"
      },
      "source": [
        "def optimize(w, b, X, Y, num_iterations, learning_rate, print_cost = True):\n",
        "    \"\"\"\n",
        "    num_iterations -- number of iterations of the optimization loop\n",
        "    learning_rate -- learning rate of the gradient descent update rule\n",
        "    print_cost -- to print the loss every 50 steps\n",
        "    \n",
        "    Returns:\n",
        "    params -- dictionary containing the weights w and bias b\n",
        "    grads -- dictionary containing the gradients of the weights and bias with respect to the cost function\n",
        "    costs -- list of all the costs computed during the optimization, this will be used to plot the learning curve.\n",
        "    \"\"\"\n",
        "    costs = []\n",
        "    \n",
        "    for i in range(num_iterations):\n",
        "        \n",
        "        \n",
        "        # Cost and gradient calculation( FROM PROPOGATION FUNCITON)\n",
        "        # 1LINE--------------------------------------------------------\n",
        "        grads, cost = propagation(w,b,X,Y)\n",
        "        \n",
        "        # Retrieve derivatives from grads\n",
        "        dw = grads[\"dw\"]\n",
        "        db = grads[\"db\"] \n",
        "        \n",
        "        #UPDATE PARAMS\n",
        "        # 2 LINES------------------------------------------------------\n",
        "        w = w - (learning_rate * (dw.T))\n",
        "        b = b - (learning_rate * db)\n",
        "        \n",
        "        # Record the costs\n",
        "        if i % 50 == 0:\n",
        "            costs.append(cost)\n",
        "        \n",
        "        # Print the cost every 100 training examples\n",
        "        if print_cost and i % 50 == 0:\n",
        "            print (\"Cost after iteration %i: %f\" %(i, cost))\n",
        "    \n",
        "    params = {\"w\": w,\n",
        "              \"b\": b}\n",
        "    \n",
        "    grads = {\"dw\": dw,\n",
        "             \"db\": db}\n",
        "    \n",
        "    return params, grads, costs"
      ],
      "id": "06cca5cc",
      "execution_count": null,
      "outputs": []
    },
    {
      "cell_type": "code",
      "metadata": {
        "id": "72b989b8"
      },
      "source": [
        "def predict(A, m):\n",
        "    '''\n",
        "    Predict whether the label is 0 or 1 using learned logistic regression parameters (w, b)\n",
        "    \n",
        "    Arguments:\n",
        "    A -- vector containing probabilities\n",
        "    m -- number of examples\n",
        "    \n",
        "    Returns:\n",
        "    Y_prediction -- a numpy array (vector) containing all predictions (0/1) for the examples in X\n",
        "    '''\n",
        "    \n",
        "    Y_prediction = np.zeros((1,m))\n",
        "    \n",
        "    for i in range(A.shape[1]):\n",
        "        \n",
        "        # Convert probabilities A[0,i] to actual predictions p[0,i], ASSUME THRESHOLD=0.5\n",
        "        # ~4 LINES------------------------------------------------\n",
        "       if A[0][i]>=0.5:\n",
        "         Y_prediction[0][i]=1\n",
        "    \n",
        "    return Y_prediction\n",
        "\n",
        "    "
      ],
      "id": "72b989b8",
      "execution_count": null,
      "outputs": []
    },
    {
      "cell_type": "code",
      "metadata": {
        "id": "e37263a5",
        "colab": {
          "base_uri": "https://localhost:8080/"
        },
        "outputId": "50aa6440-bba9-42b4-ad1e-8ca088474edb"
      },
      "source": [
        "def model(X_train , Y_train, X_test, Y_test, num_iterations = 2000, learning_rate = 0.5, print_cost = False):\n",
        "    \"\"\"\n",
        "    Builds the logistic regression model by calling the functions\n",
        "    \n",
        "    Arguments:\n",
        "    X_train -- training set \n",
        "    Y_train -- training labels\n",
        "    X_test -- test set \n",
        "    Y_test -- test labels \n",
        "    num_iterations -- hyperparameter representing the number of iterations to optimize the parameters\n",
        "    learning_rate -- hyperparameter representing the learning rate used in the update rule of optimize()\n",
        "    print_cost -- Set to False to print the cost every 100 iterations\n",
        "    \n",
        "    Returns:\n",
        "    d -- dictionary containing information about the model.\n",
        "    \"\"\"\n",
        "    \n",
        "    n_features = X_train.shape[1]\n",
        "    print('Number of Features', n_features)\n",
        "    \n",
        "    # initialize parameters with zeros\n",
        "    # 1LINE-----------------------------------------------------\n",
        "    w, b = initialize_with_zeros(n_features)\n",
        "\n",
        "    # Gradient descent \n",
        "    # 1 linE-----------------------------------------------------------\n",
        "    params, grads, costs = optimize(w, b, X, Y, num_iterations, learning_rate, print_cost = True)\n",
        "   \n",
        "    \n",
        "    # Retrieve parameters w and b from dictionary \"parameters\" defined in the above line\n",
        "    #2 lines-----------------------------------------------------------\n",
        "    w = params[\"w\"]\n",
        "    b = params[\"b\"] \n",
        "    \n",
        "    print('Optimized weights', w)\n",
        "    print('Optimized intercept',b)\n",
        "    \n",
        "    # probability vector using sigmoid of model\n",
        "    # 2 LINES--------------------------------------------------------------------\n",
        "    final_train_pred = sigmoid(np.dot(w,X_train.T)+b) \n",
        "    final_test_pred = sigmoid(np.dot(w,X_test.T)+b)\n",
        "    \n",
        "    m_tr =  X_train.shape[0]\n",
        "    m_ts =  X_test.shape[0]\n",
        "    \n",
        "\n",
        "    # Get Training Accuracy\n",
        "    # 1LINE--------------------------------------------------------------\n",
        "    y_tr_pred = predict(final_train_pred, m_tr)\n",
        "    print('Training Accuracy',accuracy_score(y_tr_pred.T, Y_train))\n",
        "\n",
        "    # Get Testing Accuracy\n",
        "    # 1LINE----------------------------------------------------------\n",
        "    y_ts_pred = predict(final_test_pred, m_ts)\n",
        "\n",
        "    print('Test Accuracy',accuracy_score(y_ts_pred.T, Y_test)) \n",
        "    \n",
        "    d = {\"costs\": costs,\n",
        "         \"Y_prediction_test\": y_tr_pred, \n",
        "         \"Y_prediction_train\" : y_ts_pred, \n",
        "         \"w\" : w, \n",
        "         \"b\" : b,\n",
        "         \"learning_rate\" : learning_rate,\n",
        "         \"num_iterations\": num_iterations}\n",
        "    \n",
        "    return d\n",
        "\n",
        "#TRAIN YOUR LOGISTIC REGRESSION MODEL\n",
        "# 1 LINE (CALL MODEL FUNC)-------------------------------------------------------------------\n",
        "a = model(train_X,train_y,test_X,test_y, num_iterations = 2000, learning_rate = 0.5, print_cost = True)\n"
      ],
      "id": "e37263a5",
      "execution_count": null,
      "outputs": [
        {
          "output_type": "stream",
          "text": [
            "Number of Features 4\n",
            "Cost after iteration 0: 0.693147\n",
            "Cost after iteration 50: 0.017955\n",
            "Cost after iteration 100: 0.011542\n",
            "Cost after iteration 150: 0.008585\n",
            "Cost after iteration 200: 0.006871\n",
            "Cost after iteration 250: 0.005747\n",
            "Cost after iteration 300: 0.004952\n",
            "Cost after iteration 350: 0.004358\n",
            "Cost after iteration 400: 0.003896\n",
            "Cost after iteration 450: 0.003527\n",
            "Cost after iteration 500: 0.003224\n",
            "Cost after iteration 550: 0.002972\n",
            "Cost after iteration 600: 0.002758\n",
            "Cost after iteration 650: 0.002574\n",
            "Cost after iteration 700: 0.002414\n",
            "Cost after iteration 750: 0.002273\n",
            "Cost after iteration 800: 0.002149\n",
            "Cost after iteration 850: 0.002039\n",
            "Cost after iteration 900: 0.001939\n",
            "Cost after iteration 950: 0.001850\n",
            "Cost after iteration 1000: 0.001768\n",
            "Cost after iteration 1050: 0.001694\n",
            "Cost after iteration 1100: 0.001626\n",
            "Cost after iteration 1150: 0.001564\n",
            "Cost after iteration 1200: 0.001507\n",
            "Cost after iteration 1250: 0.001453\n",
            "Cost after iteration 1300: 0.001404\n",
            "Cost after iteration 1350: 0.001358\n",
            "Cost after iteration 1400: 0.001315\n",
            "Cost after iteration 1450: 0.001275\n",
            "Cost after iteration 1500: 0.001237\n",
            "Cost after iteration 1550: 0.001202\n",
            "Cost after iteration 1600: 0.001168\n",
            "Cost after iteration 1650: 0.001137\n",
            "Cost after iteration 1700: 0.001107\n",
            "Cost after iteration 1750: 0.001079\n",
            "Cost after iteration 1800: 0.001052\n",
            "Cost after iteration 1850: 0.001027\n",
            "Cost after iteration 1900: 0.001003\n",
            "Cost after iteration 1950: 0.000980\n",
            "Optimized weights [[-0.83313729 -3.02415804  4.65898324  2.10725356]]\n",
            "Optimized intercept -0.5267726638244036\n",
            "Training Accuracy 1.0\n",
            "Test Accuracy 1.0\n"
          ],
          "name": "stdout"
        }
      ]
    },
    {
      "cell_type": "code",
      "metadata": {
        "id": "5d2d7503",
        "colab": {
          "base_uri": "https://localhost:8080/",
          "height": 301
        },
        "outputId": "673a325d-80ae-4181-ec5a-b9ff456225d2"
      },
      "source": [
        "# Plot learning curve (with costs)\n",
        "# ~5LINES---------------------------------------------------------------------------\n",
        "costs = a[\"costs\"]\n",
        "plt.plot(costs)\n",
        "plt.ylabel('costs')\n",
        "plt.xlabel('iterations (per hundreds)')\n",
        "plt.title('Cost reduction over time')\n",
        "plt.show()"
      ],
      "id": "5d2d7503",
      "execution_count": null,
      "outputs": [
        {
          "output_type": "display_data",
          "data": {
            "image/png": "[encoded data removed]",
            "text/plain": [
              "<Figure size 432x288 with 1 Axes>"
            ]
          },
          "metadata": {
            "tags": [],
            "needs_background": "light"
          }
        }
      ]
    },
    {
      "cell_type": "code",
      "metadata": {
        "colab": {
          "base_uri": "https://localhost:8080/"
        },
        "id": "KL4ryT1j_jbk",
        "outputId": "58a5d622-7170-41e7-8286-4a7ddd7b66da"
      },
      "source": [
        "from google.colab import drive\n",
        "drive.mount('/content/drive')"
      ],
      "id": "KL4ryT1j_jbk",
      "execution_count": null,
      "outputs": [
        {
          "output_type": "stream",
          "text": [
            "Drive already mounted at /content/drive; to attempt to forcibly remount, call drive.mount(\"/content/drive\", force_remount=True).\n"
          ],
          "name": "stdout"
        }
      ]
    },
    {
      "cell_type": "code",
      "metadata": {
        "id": "6e3ddca0"
      },
      "source": [
        "\n"
      ],
      "id": "6e3ddca0",
      "execution_count": null,
      "outputs": []
    }
  ]
}